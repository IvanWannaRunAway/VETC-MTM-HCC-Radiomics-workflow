{
 "cells": [
  {
   "cell_type": "code",
   "execution_count": 4,
   "id": "ba9ce0b0-e0d9-455a-bd5d-9743d3d0cca4",
   "metadata": {},
   "outputs": [],
   "source": [
    "import SimpleITK as sitk\n",
    "import glob\n",
    "import os"
   ]
  },
  {
   "cell_type": "code",
   "execution_count": 5,
   "id": "8a7ff7a9-e11a-4bd9-a60e-b5fbc82e6631",
   "metadata": {},
   "outputs": [],
   "source": [
    "#上次到 'D:/HCC_VETC/VETC/CZPwithoutN4/needN4/111/*'\n",
    "\n",
    "path =  'D:/HCC_VETC/VETC/foyiwithoutN4/tianbuqueshizhi/*' #glob：参数为路径以及文件过滤条件，若不设置过滤需填写为*，此函数会返回包括路径的文件夹和文件名\n",
    "# path =  'D:/HCC_VETC/VETC/NotN4yetlianghelin/*'\n",
    "\n",
    "outputpath = 'D:/HCC_VETC/VETC/image/tianbuqueshizhi'\n",
    "# outputpath = 'D:/HCC_VETC/VETC/image/czp'"
   ]
  },
  {
   "cell_type": "code",
   "execution_count": 6,
   "id": "a497396e-fc81-4bb9-a876-90879f55dce9",
   "metadata": {},
   "outputs": [
    {
     "name": "stdout",
     "output_type": "stream",
     "text": [
      "Completed!\n"
     ]
    }
   ],
   "source": [
    "for file_abs in glob.glob(path):           #glob.glob(path)是Python中的一个函数，它返回一个列表，其中包含与指定路径匹配的所有文件和文件夹的名称。这个函数可以使用通配符来匹配文件名。例如，如果你想要匹配所有以“.txt”结尾的文件，你可以使用“*.txt”作为参数。\n",
    "    imagePath = file_abs\n",
    "    input_image = sitk.ReadImage(imagePath)\n",
    "    mask_image = sitk.OtsuThreshold(input_image,0,1,200)\n",
    "    input_image = sitk.Cast(input_image, sitk.sitkFloat32)\n",
    "    corrector = sitk.N4BiasFieldCorrectionImageFilter()\n",
    "    output_image = corrector.Execute(input_image,mask_image)\n",
    "    output_image = sitk.Cast(output_image, sitk.sitkInt16)\n",
    "    #接下来输出文件名改为原名+N4\n",
    "    (filepath, tempfilename) = os.path.split(file_abs)\n",
    "    (filename, extension) = os.path.splitext(tempfilename)\n",
    "    tempfilename = filename + \"_N4\" + extension\n",
    "    file_out = os.path.join(outputpath, tempfilename)\n",
    "    sitk.WriteImage(output_image, file_out)\n",
    "    #sitk.WriteImage(output_image, file_out) mask如果想要输出得改路径path\n",
    "        \n",
    "print('Completed!')"
   ]
  },
  {
   "cell_type": "code",
   "execution_count": 2,
   "id": "da61c09e-027f-4a45-9cf4-5e1749ad1efa",
   "metadata": {},
   "outputs": [],
   "source": []
  },
  {
   "cell_type": "code",
   "execution_count": 2,
   "id": "86ff2ac3-5203-453f-b3c5-ca7fe0e5e2b2",
   "metadata": {},
   "outputs": [],
   "source": []
  }
 ],
 "metadata": {
  "kernelspec": {
   "display_name": "Python 3 (ipykernel)",
   "language": "python",
   "name": "python3"
  },
  "language_info": {
   "codemirror_mode": {
    "name": "ipython",
    "version": 3
   },
   "file_extension": ".py",
   "mimetype": "text/x-python",
   "name": "python",
   "nbconvert_exporter": "python",
   "pygments_lexer": "ipython3",
   "version": "3.9.13"
  }
 },
 "nbformat": 4,
 "nbformat_minor": 5
}
