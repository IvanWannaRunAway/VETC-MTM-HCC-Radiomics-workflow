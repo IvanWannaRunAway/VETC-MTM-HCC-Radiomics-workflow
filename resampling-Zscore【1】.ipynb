{
 "cells": [
  {
   "cell_type": "code",
   "execution_count": 1,
   "id": "192076f8-d99a-4d2b-8542-e72083223064",
   "metadata": {},
   "outputs": [],
   "source": [
    "import SimpleITK as sitk\n",
    "import numpy as np\n",
    "import glob\n",
    "import os"
   ]
  },
  {
   "cell_type": "code",
   "execution_count": 2,
   "id": "cdc3272a-1337-4745-8360-42f7ae85a93e",
   "metadata": {},
   "outputs": [],
   "source": [
    "# 对医疗图像进行重采样，仅仅需要将out_spacing替换成自己想要的输出即可\n",
    "def resample_image(itk_image, out_spacing=None):\n",
    "    if out_spacing is None:\n",
    "        out_spacing = [1.0, 1.0, 1.0]\n",
    "    original_spacing = itk_image.GetSpacing()\n",
    "    original_size = itk_image.GetSize()\n",
    "\n",
    "    # 根据输出out_spacing设置新的size\n",
    "    out_size = [\n",
    "        int(np.round(original_size[0] * original_spacing[0] / out_spacing[0])),\n",
    "        int(np.round(original_size[1] * original_spacing[1] / out_spacing[1])),\n",
    "        int(np.round(original_size[2] * original_spacing[2] / out_spacing[2]))\n",
    "    ]\n",
    "\n",
    "    resample = sitk.ResampleImageFilter()\n",
    "    resample.SetOutputSpacing(out_spacing)\n",
    "    resample.SetSize(out_size)\n",
    "    resample.SetOutputDirection(itk_image.GetDirection())\n",
    "    resample.SetOutputOrigin(itk_image.GetOrigin())\n",
    "    resample.SetTransform(sitk.Transform())\n",
    "    resample.SetDefaultPixelValue(itk_image.GetPixelIDValue())\n",
    "\n",
    "    resample.SetInterpolator(sitk.sitkBSpline)\n",
    "\n",
    "    return resample.Execute(itk_image)\n",
    "\n",
    "def resample_mask(itk_mask, out_spacing=None):\n",
    "    if out_spacing is None:\n",
    "        out_spacing = [1.0, 1.0, 1.0]\n",
    "    original_spacing = itk_mask.GetSpacing()\n",
    "    original_size = itk_mask.GetSize()\n",
    "\n",
    "    # 根据输出out_spacing设置新的size\n",
    "    out_size = [\n",
    "        int(np.round(original_size[0] * original_spacing[0] / out_spacing[0])),\n",
    "        int(np.round(original_size[1] * original_spacing[1] / out_spacing[1])),\n",
    "        int(np.round(original_size[2] * original_spacing[2] / out_spacing[2]))\n",
    "    ]\n",
    "\n",
    "    resample = sitk.ResampleImageFilter()\n",
    "    resample.SetOutputSpacing(out_spacing)\n",
    "    resample.SetSize(out_size)\n",
    "    resample.SetOutputDirection(itk_mask.GetDirection())\n",
    "    resample.SetOutputOrigin(itk_mask.GetOrigin())\n",
    "    resample.SetTransform(sitk.Transform())\n",
    "    resample.SetDefaultPixelValue(itk_mask.GetPixelIDValue())\n",
    "\n",
    "    resample.SetInterpolator(sitk.sitkNearestNeighbor)\n",
    "\n",
    "    return resample.Execute(itk_mask)\n",
    "\n",
    "#z-score\n",
    "sitk_NIF = sitk.NormalizeImageFilter ()"
   ]
  },
  {
   "cell_type": "code",
   "execution_count": 3,
   "id": "919df959-43ff-485a-8770-878766e99e53",
   "metadata": {},
   "outputs": [],
   "source": [
    "# imagepath = 'D:/HCC_VETC/VETC/image/foyi/include/*'\n",
    "# maskpath = 'D:/HCC_VETC/VETC/segmentation/foyi/include/*'\n",
    "# outputimagepath = 'E:/preprocessing/foyi/0/imageout'\n",
    "# outputmaskpath = 'E:/preprocessing/foyi/0/maskout'\n",
    "\n",
    "\n",
    "imagepath = 'E:/xinjie/STAS/STAS(+)nrrd/*'\n",
    "maskpath = 'E:/xinjie/STAS/STAS(+)ROInrrd/*'\n",
    "outputimagepath = 'E:/xinjie/STAS/STAS(+)resample'\n",
    "outputmaskpath = 'E:/xinjie/STAS/STAS(+)ROIresample'\n",
    "\n",
    "\n",
    "# #下面为出错的病人\n",
    "# mask2path = 'E:/hwr/image/*'\n",
    "# outputmask2path = 'E:/ssy'"
   ]
  },
  {
   "cell_type": "code",
   "execution_count": 10,
   "id": "03193954-8d86-4aad-88c0-c861fd993624",
   "metadata": {},
   "outputs": [],
   "source": [
    "#图像进行resampling+zscore\n",
    "for fileimage in glob.glob(imagepath):    \n",
    "    itk_image=sitk.ReadImage(fileimage)\n",
    "    resampleimage=resample_image(itk_image)\n",
    "    resample_zscore_image = sitk_NIF.Execute(resampleimage)\n",
    "     #接下来输出文件名改为原名+resamplezscore\n",
    "    (filepath, tempfilename) = os.path.split(fileimage)\n",
    "    (filename, extension) = os.path.splitext(tempfilename)\n",
    "    tempfilename = filename + \"_resamplezscore\" + extension\n",
    "    file_out = os.path.join(outputimagepath, tempfilename)\n",
    "    sitk.WriteImage(resample_zscore_image, file_out)"
   ]
  },
  {
   "cell_type": "code",
   "execution_count": 4,
   "id": "ec3947b7-80ef-434e-b046-cdef003788e6",
   "metadata": {},
   "outputs": [],
   "source": [
    "#mask进行resampling\n",
    "for filemask in glob.glob(maskpath): \n",
    "    itk_mask=sitk.ReadImage(filemask)\n",
    "    resamplemask=resample_mask(itk_mask)\n",
    "     #接下来输出文件名改为原名+resample\n",
    "    (filepath, tempfilename) = os.path.split(filemask)\n",
    "    (filename, extension) = os.path.splitext(tempfilename)\n",
    "    tempfilename = filename + \"_resample\" + extension\n",
    "    file_out = os.path.join(outputmaskpath, tempfilename)\n",
    "    sitk.WriteImage(resamplemask, file_out)"
   ]
  },
  {
   "cell_type": "code",
   "execution_count": 6,
   "id": "44d3e83f-c764-437c-897b-aa9f44b34f38",
   "metadata": {
    "collapsed": true,
    "jupyter": {
     "outputs_hidden": true,
     "source_hidden": true
    }
   },
   "outputs": [
    {
     "ename": "RuntimeError",
     "evalue": "Exception thrown in SimpleITK ImageFileReader_Execute: D:\\a\\1\\sitk-build\\ITK\\Modules\\IO\\NRRD\\src\\itkNrrdImageIO.cxx:292:\nitk::ERROR: NrrdImageIO(00000164723CD8D0): ReadImageInformation: Error reading D:/HCC_VETC/VETC/segmentation/foyi/填补缺失值\\huangxinxi_20min_Segmentation-tumor-label.nrrd:\n[nrrd] nrrdLoad: fopen(\"D:/HCC_VETC/VETC/segmentation/foyi/\\huangxinxi_20min_Segmentation-tumor-label.nrrd\",\"rb\") failed: No such file or directory\n",
     "output_type": "error",
     "traceback": [
      "\u001b[1;31m---------------------------------------------------------------------------\u001b[0m",
      "\u001b[1;31mRuntimeError\u001b[0m                              Traceback (most recent call last)",
      "\u001b[1;32m~\\AppData\\Local\\Temp\\ipykernel_6196\\719291074.py\u001b[0m in \u001b[0;36m<module>\u001b[1;34m\u001b[0m\n\u001b[0;32m      1\u001b[0m \u001b[1;31m#mask进行resampling\u001b[0m\u001b[1;33m\u001b[0m\u001b[1;33m\u001b[0m\u001b[0m\n\u001b[0;32m      2\u001b[0m \u001b[1;32mfor\u001b[0m \u001b[0mfilemask\u001b[0m \u001b[1;32min\u001b[0m \u001b[0mglob\u001b[0m\u001b[1;33m.\u001b[0m\u001b[0mglob\u001b[0m\u001b[1;33m(\u001b[0m\u001b[0mmaskpath\u001b[0m\u001b[1;33m)\u001b[0m\u001b[1;33m:\u001b[0m\u001b[1;33m\u001b[0m\u001b[1;33m\u001b[0m\u001b[0m\n\u001b[1;32m----> 3\u001b[1;33m     \u001b[0mitk_mask\u001b[0m\u001b[1;33m=\u001b[0m\u001b[0msitk\u001b[0m\u001b[1;33m.\u001b[0m\u001b[0mReadImage\u001b[0m\u001b[1;33m(\u001b[0m\u001b[0mfilemask\u001b[0m\u001b[1;33m)\u001b[0m\u001b[1;33m\u001b[0m\u001b[1;33m\u001b[0m\u001b[0m\n\u001b[0m\u001b[0;32m      4\u001b[0m     \u001b[0mresamplemask\u001b[0m\u001b[1;33m=\u001b[0m\u001b[0mresample_mask\u001b[0m\u001b[1;33m(\u001b[0m\u001b[0mitk_mask\u001b[0m\u001b[1;33m)\u001b[0m\u001b[1;33m\u001b[0m\u001b[1;33m\u001b[0m\u001b[0m\n\u001b[0;32m      5\u001b[0m      \u001b[1;31m#接下来输出文件名改为原名+resample\u001b[0m\u001b[1;33m\u001b[0m\u001b[1;33m\u001b[0m\u001b[0m\n",
      "\u001b[1;32m~\\AppData\\Roaming\\Python\\Python39\\site-packages\\SimpleITK\\extra.py\u001b[0m in \u001b[0;36mReadImage\u001b[1;34m(fileName, outputPixelType, imageIO)\u001b[0m\n\u001b[0;32m    353\u001b[0m     \u001b[0mreader\u001b[0m\u001b[1;33m.\u001b[0m\u001b[0mSetImageIO\u001b[0m\u001b[1;33m(\u001b[0m\u001b[0mimageIO\u001b[0m\u001b[1;33m)\u001b[0m\u001b[1;33m\u001b[0m\u001b[1;33m\u001b[0m\u001b[0m\n\u001b[0;32m    354\u001b[0m     \u001b[0mreader\u001b[0m\u001b[1;33m.\u001b[0m\u001b[0mSetOutputPixelType\u001b[0m\u001b[1;33m(\u001b[0m\u001b[0moutputPixelType\u001b[0m\u001b[1;33m)\u001b[0m\u001b[1;33m\u001b[0m\u001b[1;33m\u001b[0m\u001b[0m\n\u001b[1;32m--> 355\u001b[1;33m     \u001b[1;32mreturn\u001b[0m \u001b[0mreader\u001b[0m\u001b[1;33m.\u001b[0m\u001b[0mExecute\u001b[0m\u001b[1;33m(\u001b[0m\u001b[1;33m)\u001b[0m\u001b[1;33m\u001b[0m\u001b[1;33m\u001b[0m\u001b[0m\n\u001b[0m\u001b[0;32m    356\u001b[0m \u001b[1;33m\u001b[0m\u001b[0m\n\u001b[0;32m    357\u001b[0m \u001b[1;33m\u001b[0m\u001b[0m\n",
      "\u001b[1;32m~\\AppData\\Roaming\\Python\\Python39\\site-packages\\SimpleITK\\SimpleITK.py\u001b[0m in \u001b[0;36mExecute\u001b[1;34m(self)\u001b[0m\n\u001b[0;32m   8436\u001b[0m \u001b[1;33m\u001b[0m\u001b[0m\n\u001b[0;32m   8437\u001b[0m         \"\"\"\n\u001b[1;32m-> 8438\u001b[1;33m         \u001b[1;32mreturn\u001b[0m \u001b[0m_SimpleITK\u001b[0m\u001b[1;33m.\u001b[0m\u001b[0mImageFileReader_Execute\u001b[0m\u001b[1;33m(\u001b[0m\u001b[0mself\u001b[0m\u001b[1;33m)\u001b[0m\u001b[1;33m\u001b[0m\u001b[1;33m\u001b[0m\u001b[0m\n\u001b[0m\u001b[0;32m   8439\u001b[0m \u001b[1;33m\u001b[0m\u001b[0m\n\u001b[0;32m   8440\u001b[0m     \u001b[1;32mdef\u001b[0m \u001b[0mReadImageInformation\u001b[0m\u001b[1;33m(\u001b[0m\u001b[0mself\u001b[0m\u001b[1;33m)\u001b[0m\u001b[1;33m:\u001b[0m\u001b[1;33m\u001b[0m\u001b[1;33m\u001b[0m\u001b[0m\n",
      "\u001b[1;31mRuntimeError\u001b[0m: Exception thrown in SimpleITK ImageFileReader_Execute: D:\\a\\1\\sitk-build\\ITK\\Modules\\IO\\NRRD\\src\\itkNrrdImageIO.cxx:292:\nitk::ERROR: NrrdImageIO(00000164723CD8D0): ReadImageInformation: Error reading D:/HCC_VETC/VETC/segmentation/foyi/填补缺失值\\huangxinxi_20min_Segmentation-tumor-label.nrrd:\n[nrrd] nrrdLoad: fopen(\"D:/HCC_VETC/VETC/segmentation/foyi/\\huangxinxi_20min_Segmentation-tumor-label.nrrd\",\"rb\") failed: No such file or directory\n"
     ]
    }
   ],
   "source": [
    "# #mask进行resampling\n",
    "# for filemask in glob.glob(maskpath): \n",
    "#     itk_mask=sitk.ReadImage(filemask)\n",
    "#     resamplemask=resample_mask(itk_mask)\n",
    "#      #接下来输出文件名改为原名+resample\n",
    "#     (filepath, tempfilename) = os.path.split(filemask)\n",
    "#     (filename, extension) = os.path.splitext(tempfilename)\n",
    "#     tempfilename = filename + \"_resample\" + extension\n",
    "#     file_out = os.path.join(outputmask2path, tempfilename)\n",
    "#     sitk.WriteImage(resamplemask, file_out)"
   ]
  },
  {
   "cell_type": "code",
   "execution_count": null,
   "id": "5624f093-2d04-4ab1-9322-93684a39f440",
   "metadata": {},
   "outputs": [],
   "source": []
  },
  {
   "cell_type": "code",
   "execution_count": null,
   "id": "d16c49fc-01ef-4757-8cf9-91505ce286e4",
   "metadata": {},
   "outputs": [],
   "source": []
  }
 ],
 "metadata": {
  "kernelspec": {
   "display_name": "Python 3 (ipykernel)",
   "language": "python",
   "name": "python3"
  },
  "language_info": {
   "codemirror_mode": {
    "name": "ipython",
    "version": 3
   },
   "file_extension": ".py",
   "mimetype": "text/x-python",
   "name": "python",
   "nbconvert_exporter": "python",
   "pygments_lexer": "ipython3",
   "version": "3.9.13"
  }
 },
 "nbformat": 4,
 "nbformat_minor": 5
}
