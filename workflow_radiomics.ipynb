{
 "cells": [
  {
   "cell_type": "markdown",
   "id": "d45f2e1d-48b1-40d3-889a-4a6cc8ae6d43",
   "metadata": {},
   "source": [
    "First, the DICOM format images were converted to NRRD format."
   ]
  },
  {
   "cell_type": "code",
   "execution_count": null,
   "id": "6528c420-f9b0-4de4-93da-48b7e7be9336",
   "metadata": {},
   "outputs": [],
   "source": [
    "import SimpleITK as sitk\n",
    "import os"
   ]
  },
  {
   "cell_type": "code",
   "execution_count": null,
   "id": "df3c8f9b-9ef5-4dec-a2f9-06640d1d704d",
   "metadata": {},
   "outputs": [],
   "source": [
    "def dicom_series_to_nrrd(input_folder, output_nrrd):\n",
    "    dicom_names = sitk.ImageSeriesReader.GetGDCMSeriesFileNames(input_folder)  \n",
    "    reader = sitk.ImageSeriesReader()\n",
    "    reader.SetFileNames(dicom_names) \n",
    "    dicom_series = reader.Execute() \n",
    "    sitk.WriteImage(dicom_series, output_nrrd)"
   ]
  },
  {
   "cell_type": "code",
   "execution_count": null,
   "id": "b48ddac5-e568-4197-b3ee-4b91ff840ee6",
   "metadata": {},
   "outputs": [],
   "source": [
    "path = \"/\"\n",
    "\n",
    "for root, dirs, files in os.walk(path):\n",
    "    for dir_name in dirs:\n",
    "        output_file = \"/\"+ dir_name +\".nrrd\"\n",
    "        dicom_series_to_nrrd(os.path.join(root, dir_name), output_file)"
   ]
  },
  {
   "cell_type": "markdown",
   "id": "2571ff76-677e-46de-bd45-b30d70442c76",
   "metadata": {},
   "source": [
    "Next, N4 bias field correction was performed."
   ]
  },
  {
   "cell_type": "code",
   "execution_count": null,
   "id": "d78e8bf4-6274-47b5-9683-18820dcb8ccb",
   "metadata": {},
   "outputs": [],
   "source": [
    "import SimpleITK as sitk\n",
    "import glob\n",
    "import os"
   ]
  },
  {
   "cell_type": "code",
   "execution_count": null,
   "id": "f72df1c2-c784-4a2f-ae8d-8c77fa9a6a3d",
   "metadata": {},
   "outputs": [],
   "source": [
    "path =  '/' \n",
    "outputpath = '/'"
   ]
  },
  {
   "cell_type": "code",
   "execution_count": null,
   "id": "72f089bd-20e6-49f4-8202-bbd4cb9ae4da",
   "metadata": {},
   "outputs": [],
   "source": [
    "for file_abs in glob.glob(path):\n",
    "    imagePath = file_abs\n",
    "    input_image = sitk.ReadImage(imagePath)\n",
    "    mask_image = sitk.OtsuThreshold(input_image,0,1,200)\n",
    "    input_image = sitk.Cast(input_image, sitk.sitkFloat32)\n",
    "    corrector = sitk.N4BiasFieldCorrectionImageFilter()\n",
    "    output_image = corrector.Execute(input_image,mask_image)\n",
    "    output_image = sitk.Cast(output_image, sitk.sitkInt16)\n",
    "    (filepath, tempfilename) = os.path.split(file_abs)\n",
    "    (filename, extension) = os.path.splitext(tempfilename)\n",
    "    tempfilename = filename + \"_N4\" + extension\n",
    "    file_out = os.path.join(outputpath, tempfilename)\n",
    "    sitk.WriteImage(output_image, file_out)\n",
    "        \n",
    "print('Completed!')"
   ]
  },
  {
   "cell_type": "markdown",
   "id": "91a1c703-b793-45c5-9808-ce4faaf13564",
   "metadata": {},
   "source": [
    "The NRRD format images and VOIs were resampled to a voxel size of 1×1×1 mm, followed by normalization of the resulting data."
   ]
  },
  {
   "cell_type": "code",
   "execution_count": null,
   "id": "13fa62ff-2cad-45b5-a340-9380a545e5e6",
   "metadata": {},
   "outputs": [],
   "source": [
    "import SimpleITK as sitk\n",
    "import numpy as np\n",
    "import glob\n",
    "import os"
   ]
  },
  {
   "cell_type": "code",
   "execution_count": null,
   "id": "c3a1b3a8-d343-435f-8888-ab4344f45dfb",
   "metadata": {},
   "outputs": [],
   "source": [
    "def resample_image(itk_image, out_spacing=None):\n",
    "    if out_spacing is None:\n",
    "        out_spacing = [1.0, 1.0, 1.0]\n",
    "    original_spacing = itk_image.GetSpacing()\n",
    "    original_size = itk_image.GetSize()\n",
    "\n",
    "    out_size = [\n",
    "        int(np.round(original_size[0] * original_spacing[0] / out_spacing[0])),\n",
    "        int(np.round(original_size[1] * original_spacing[1] / out_spacing[1])),\n",
    "        int(np.round(original_size[2] * original_spacing[2] / out_spacing[2]))\n",
    "    ]\n",
    "\n",
    "    resample = sitk.ResampleImageFilter()\n",
    "    resample.SetOutputSpacing(out_spacing)\n",
    "    resample.SetSize(out_size)\n",
    "    resample.SetOutputDirection(itk_image.GetDirection())\n",
    "    resample.SetOutputOrigin(itk_image.GetOrigin())\n",
    "    resample.SetTransform(sitk.Transform())\n",
    "    resample.SetDefaultPixelValue(itk_image.GetPixelIDValue())\n",
    "\n",
    "    resample.SetInterpolator(sitk.sitkBSpline)\n",
    "\n",
    "    return resample.Execute(itk_image)\n",
    "\n",
    "def resample_mask(itk_mask, out_spacing=None):\n",
    "    if out_spacing is None:\n",
    "        out_spacing = [1.0, 1.0, 1.0]\n",
    "    original_spacing = itk_mask.GetSpacing()\n",
    "    original_size = itk_mask.GetSize()\n",
    "\n",
    "    out_size = [\n",
    "        int(np.round(original_size[0] * original_spacing[0] / out_spacing[0])),\n",
    "        int(np.round(original_size[1] * original_spacing[1] / out_spacing[1])),\n",
    "        int(np.round(original_size[2] * original_spacing[2] / out_spacing[2]))\n",
    "    ]\n",
    "\n",
    "    resample = sitk.ResampleImageFilter()\n",
    "    resample.SetOutputSpacing(out_spacing)\n",
    "    resample.SetSize(out_size)\n",
    "    resample.SetOutputDirection(itk_mask.GetDirection())\n",
    "    resample.SetOutputOrigin(itk_mask.GetOrigin())\n",
    "    resample.SetTransform(sitk.Transform())\n",
    "    resample.SetDefaultPixelValue(itk_mask.GetPixelIDValue())\n",
    "\n",
    "    resample.SetInterpolator(sitk.sitkNearestNeighbor)\n",
    "\n",
    "    return resample.Execute(itk_mask)\n",
    "\n",
    "#Normalization\n",
    "sitk_NIF = sitk.NormalizeImageFilter ()"
   ]
  },
  {
   "cell_type": "markdown",
   "id": "5fc24e82-d789-40f2-be47-5ee04f03ef4c",
   "metadata": {},
   "source": [
    "Radiomic features were extracted using PyRadiomics, and the data were standardized using Z-score normalization."
   ]
  },
  {
   "cell_type": "code",
   "execution_count": null,
   "id": "130bb99f-95f7-49b7-919c-c9c9e498710e",
   "metadata": {},
   "outputs": [],
   "source": [
    "import pandas as pd\n",
    "import numpy as np\n",
    "import radiomics\n",
    "import glob\n",
    "import os\n",
    "\n",
    "from radiomics import featureextractor"
   ]
  },
  {
   "cell_type": "code",
   "execution_count": null,
   "id": "689a4af8-0fbf-4611-9bdb-a8cb9debdb94",
   "metadata": {},
   "outputs": [],
   "source": [
    "extractor=featureextractor.RadiomicsFeatureExtractor(\"exampleMR_NoResampling.yaml\") #The bincount was set to 64 bins."
   ]
  },
  {
   "cell_type": "code",
   "execution_count": null,
   "id": "c59ec77f-bca3-4b58-bc27-cb3f53f02ee1",
   "metadata": {},
   "outputs": [],
   "source": [
    "imagepath = '/'\n",
    "maskpath = '/'"
   ]
  },
  {
   "cell_type": "code",
   "execution_count": null,
   "id": "77588587-c618-482b-96c0-fb3ef8eb0841",
   "metadata": {},
   "outputs": [],
   "source": [
    "data={}\n",
    "dfs=[]\n",
    "rank = ['pre','ap','pvp','delayed','fs'] #Different phase\n",
    "for phase in rank:\n",
    "    for image,mask in zip(glob.glob(imagepath),glob.glob(maskpath)):\n",
    "        if image.endswith(phase + '_N4_resamplezscore.nrrd'):\n",
    "            try:\n",
    "                feature=extractor.execute(image,mask) \n",
    "            except:\n",
    "                print(\"There is something wrong with this :\" , image)\n",
    "            featurepd=pd.DataFrame([feature])\n",
    "            featurepd.rename(columns=lambda x: x + '_'+ phase , inplace=True)\n",
    "            if image.endswith('pre_N4_resamplezscore.nrrd'):\n",
    "                (filepath, tempfilename) = os.path.split(image)\n",
    "                featurepd.insert(0,\"id\",tempfilename.split('_')[0])           \n",
    "        else:\n",
    "            featurepd = pd.DataFrame(data)\n",
    "        dfs.append(featurepd)\n",
    "    radiomic = pd.concat(dfs)\n",
    "    dfs=[]\n",
    "    # radiomic = radiomic.iloc[:,23:]\n",
    "    if phase == \"pre\":\n",
    "        radiomics = pd.concat([radiomic.iloc[:,0],radiomic.iloc[:,23:]],axis=1)\n",
    "    else:\n",
    "        radiomics = pd.concat([radiomics,radiomic.iloc[:,22:]],axis=1)\n",
    "\n",
    "# radiomics"
   ]
  },
  {
   "cell_type": "code",
   "execution_count": null,
   "id": "5a5cc644-cd06-4524-9aab-6163bdf48faa",
   "metadata": {},
   "outputs": [],
   "source": [
    "radiomicsfeatures = radiomics.iloc[:,1:]"
   ]
  },
  {
   "cell_type": "code",
   "execution_count": null,
   "id": "df6826c2-546f-41bc-ae59-14ad64034e02",
   "metadata": {},
   "outputs": [],
   "source": [
    "from sklearn.preprocessing import StandardScaler"
   ]
  },
  {
   "cell_type": "code",
   "execution_count": null,
   "id": "9ee52b18-595e-4051-82b2-45aa5ec0f299",
   "metadata": {},
   "outputs": [],
   "source": [
    "scaler = StandardScaler()\n",
    "radiomicsfeatures_zscore = scaler.fit_transform(radiomicsfeatures)\n",
    "radiomicsfeaturesafterzscore = pd.DataFrame(radiomicsfeatures_zscore)"
   ]
  },
  {
   "cell_type": "markdown",
   "id": "737088c8-86c2-4d6d-8079-a9cdbfdd1e95",
   "metadata": {},
   "source": [
    "Feature selection: "
   ]
  },
  {
   "cell_type": "markdown",
   "id": "34478d7b-1fcb-42cb-94cd-896473a1dab5",
   "metadata": {},
   "source": [
    "An initial consistency test was performed to select features with intra- and inter-class correlation coefficients greater than 0.75."
   ]
  },
  {
   "cell_type": "code",
   "execution_count": null,
   "id": "f806214d-d2b1-4877-9b47-34c66c4b9764",
   "metadata": {},
   "outputs": [],
   "source": [
    "import pingouin as pg\n",
    "import pandas as pd\n",
    "import numpy as np\n",
    "import os"
   ]
  },
  {
   "cell_type": "code",
   "execution_count": null,
   "id": "da2ed83a-5a77-431d-a0c2-6dd35cb33a46",
   "metadata": {
    "jupyter": {
     "source_hidden": true
    }
   },
   "outputs": [],
   "source": [
    "data_1.insert(0,\"reader\",np.ones(data_1.shape[0]))\n",
    "data_2.insert(0,\"reader\",np.ones(data_2.shape[0])*2)"
   ]
  },
  {
   "cell_type": "code",
   "execution_count": null,
   "id": "cc1e2a75-156a-4353-b192-e17d92731a7f",
   "metadata": {
    "jupyter": {
     "source_hidden": true
    }
   },
   "outputs": [],
   "source": [
    "data = pd.concat([data_1,data_2]) # make a data frame like the test data \n",
    "columns_list = data.columns.tolist()\n",
    "featuresname = columns_list[2:]\n",
    "len(featuresname)"
   ]
  },
  {
   "cell_type": "code",
   "execution_count": null,
   "id": "dbbd4c54-40ee-43b8-b1fe-950dcde54f7f",
   "metadata": {},
   "outputs": [],
   "source": [
    "threshold = 0.75\n",
    "icc_resultzunei2 = []\n",
    "scores = []\n",
    "for i in featuresname:\n",
    "    icc = pg.intraclass_corr(data = data, targets = \"target\", raters = \"reader\",ratings = i)\n",
    "    score = icc.loc[2,'ICC']\n",
    "    if score > threshold:\n",
    "        icc_resultzunei2.append(i)\n",
    "        #scores.append(score)\n",
    "    else:\n",
    "        continue    "
   ]
  },
  {
   "cell_type": "code",
   "execution_count": null,
   "id": "63925dc4-b069-428f-a713-a5e33365a3a5",
   "metadata": {},
   "outputs": [],
   "source": [
    "len(icc_resultzunei2)"
   ]
  },
  {
   "cell_type": "code",
   "execution_count": null,
   "id": "d618b791-21d2-442e-9157-81893f447500",
   "metadata": {},
   "outputs": [],
   "source": [
    "listzujian=icc_resultzujian"
   ]
  },
  {
   "cell_type": "code",
   "execution_count": null,
   "id": "608f294d-a832-4e19-a4d2-6066b713ed75",
   "metadata": {},
   "outputs": [],
   "source": [
    "listzunei1=icc_resultzunei1"
   ]
  },
  {
   "cell_type": "code",
   "execution_count": null,
   "id": "5db65ee6-d290-41a0-9f57-a3eced0e99a0",
   "metadata": {},
   "outputs": [],
   "source": [
    "listzunei2=icc_resultzunei2"
   ]
  },
  {
   "cell_type": "code",
   "execution_count": null,
   "id": "bb000442-488a-4695-bcc6-78e2afdacd9d",
   "metadata": {},
   "outputs": [],
   "source": [
    "#Features with intra-class correlation coefficients greater than 0.75 in both tests and an inter-class correlation coefficient greater than 0.75 were selected, and their intersection was taken.\n",
    "intersection = set(listzujian).intersection(listzunei1, listzunei2)\n",
    "selectedfeatures = intersection\n",
    "len(selectedfeatures)"
   ]
  },
  {
   "cell_type": "code",
   "execution_count": null,
   "id": "6f5487c2-e197-483e-871c-29f1cc8b8f69",
   "metadata": {},
   "outputs": [],
   "source": [
    "dataall = pd.read_csv('/')\n",
    "dfall = pd.DataFrame(dataall)\n",
    "\n",
    "icc_df = dfall.filter(selectedfeatures)"
   ]
  },
  {
   "cell_type": "code",
   "execution_count": null,
   "id": "f8626cf7-4817-4341-8280-310774d51b00",
   "metadata": {},
   "outputs": [],
   "source": [
    "def get_all_files_in_folder(folder_path):\n",
    "    return os.listdir(folder_path)\n",
    "def get_first_part_of_string(string_list):\n",
    "    return [string.split(\"_\")[0] for string in string_list]"
   ]
  },
  {
   "cell_type": "code",
   "execution_count": null,
   "id": "85f4542b-6eb8-4789-bd19-804ae714eff5",
   "metadata": {
    "jupyter": {
     "source_hidden": true
    }
   },
   "outputs": [],
   "source": [
    "#插入id列\n",
    "\n",
    "name_path = 'E:/preprocessing/shundeyiyuan/1/20min'\n",
    "file_names1= get_all_files_in_folder(name_path)\n",
    "a = get_first_part_of_string(file_names1)\n",
    "# b = a[::6]\n",
    "icc_df.insert(loc=0, column='id', value=a)"
   ]
  },
  {
   "cell_type": "code",
   "execution_count": null,
   "id": "64b846f8-1b41-4692-bba0-3c869ade6d18",
   "metadata": {
    "jupyter": {
     "source_hidden": true
    }
   },
   "outputs": [],
   "source": [
    "icc_df.to_csv(\"E:/preprocessing/shundeyiyuan/2/extract/outcome/resultaftericc075.csv\")\n",
    "#手动插入label"
   ]
  },
  {
   "cell_type": "markdown",
   "id": "4dea9623-ae95-4852-ad36-08ec7876527f",
   "metadata": {},
   "source": [
    "logistic＞0.05"
   ]
  },
  {
   "cell_type": "code",
   "execution_count": null,
   "id": "c6ccf88f-29b0-4dc5-b457-715de0e73c08",
   "metadata": {},
   "outputs": [],
   "source": [
    "import statsmodels.api as sm\n",
    "import pandas as pd\n",
    "from collections import Counter"
   ]
  },
  {
   "cell_type": "code",
   "execution_count": null,
   "id": "28826ee8-69bc-40f2-bb9a-9ec35e7e7391",
   "metadata": {},
   "outputs": [],
   "source": [
    "Counter(y == 1)"
   ]
  },
  {
   "cell_type": "code",
   "execution_count": null,
   "id": "df32c1bd-546b-4d21-b403-30a1695f4307",
   "metadata": {},
   "outputs": [],
   "source": [
    "single_result = pd.DataFrame()\n",
    "for i in range(0, X.shape[1], 1):\n",
    "    x = X.iloc[:, i]\n",
    "    model = sm.Logit(y, sm.add_constant(x))\n",
    "    results = model.fit()\n",
    "    coef_df = pd.DataFrame({\"params\": results.params,  \n",
    "                            \"std err\": results.bse,  \n",
    "                            \"t\": round(results.tvalues, 3),  \n",
    "                            \"p-values\": round(results.pvalues, 3)  \n",
    "                            })\n",
    "    coef_df[['coef_0.025', 'coef_0.975']] = results.conf_int()  \n",
    "    single_result = pd.concat([single_result, coef_df.drop(labels='const')])"
   ]
  },
  {
   "cell_type": "markdown",
   "id": "3f545f22-dc6f-42d1-8599-40cb3151d29e",
   "metadata": {},
   "source": [
    "Pearson＞0.75"
   ]
  },
  {
   "cell_type": "code",
   "execution_count": null,
   "id": "bc396605-eb0d-4ce1-afe9-a7021fb71376",
   "metadata": {},
   "outputs": [],
   "source": [
    "def delcol_corr_new1(data, method='pearson', threshold=0.8):\n",
    "    df = pd.DataFrame(data)\n",
    "    correlation_matrix = df.corr(method).abs()\n",
    "    correlation_matrix = correlation_matrix.where(np.triu(np.ones(correlation_matrix.shape), k=1).astype(bool))\n",
    "    correlation_matrix = correlation_matrix.fillna(0)\n",
    "    selected_variables = []\n",
    "    for i in correlation_matrix.columns:\n",
    "        for j in correlation_matrix[i].index:\n",
    "            if correlation_matrix.loc[i, j] > threshold:\n",
    "                if correlation_matrix.loc[i].drop([i, j]).mean() > correlation_matrix.loc[j].drop([i, j]).mean():\n",
    "                    colname = i\n",
    "                    if colname not in selected_variables:\n",
    "                        selected_variables.append(colname)\n",
    "                else:\n",
    "                    colname = j\n",
    "                    if colname not in selected_variables:\n",
    "                        selected_variables.append(colname)\n",
    "    df = df.drop(selected_variables,axis=1)\n",
    "    return df"
   ]
  },
  {
   "cell_type": "markdown",
   "id": "da76787c-df62-4296-9774-49871c542c26",
   "metadata": {},
   "source": [
    "Lasso"
   ]
  },
  {
   "cell_type": "code",
   "execution_count": null,
   "id": "eba1289c-cd84-40f3-8bac-68349e00ecdc",
   "metadata": {},
   "outputs": [],
   "source": [
    "from sklearn.linear_model import LassoCV\n",
    "import numpy as np"
   ]
  },
  {
   "cell_type": "code",
   "execution_count": null,
   "id": "1406615f-7449-4244-8710-a791069d9455",
   "metadata": {},
   "outputs": [],
   "source": [
    "alpharange = np.logspace(-10,0,100, base=10) "
   ]
  },
  {
   "cell_type": "code",
   "execution_count": null,
   "id": "1aed1706-835e-4f67-8501-235e81de31ba",
   "metadata": {},
   "outputs": [],
   "source": [
    "lasso_ = LassoCV(alphas=alpharange \n",
    "                ,cv=10 \n",
    "                ).fit(Xtrain, Ytrain)"
   ]
  },
  {
   "cell_type": "markdown",
   "id": "15a27266-1ff3-4b20-805b-3239417b34a5",
   "metadata": {},
   "source": [
    "XGBoost"
   ]
  },
  {
   "cell_type": "code",
   "execution_count": null,
   "id": "da4f8ce5-7d2f-4086-8b4a-a6b7b7e52c93",
   "metadata": {},
   "outputs": [],
   "source": [
    "from sklearn.datasets import make_classification\n",
    "import matplotlib.pyplot as plt\n",
    "import seaborn as sns\n",
    "import pandas as pd\n",
    "from collections import Counter\n",
    "from imblearn.over_sampling import SMOTE\n",
    "import numpy as np\n",
    "import xgboost as xgb\n",
    "import matplotlib.pyplot as plt\n",
    "from xgboost import XGBClassifier as XGBC\n",
    "from sklearn.datasets import make_blobs\n",
    "from sklearn.model_selection import train_test_split as TTS\n",
    "from sklearn.metrics import confusion_matrix as cm, recall_score as recall, roc_auc_score as auc"
   ]
  },
  {
   "cell_type": "code",
   "execution_count": null,
   "id": "3c45540b-7852-4bbb-8fe9-3262e5f6a98b",
   "metadata": {},
   "outputs": [],
   "source": [
    "datatrain = pd.read_csv('/',index_col=0)\n",
    "ytrain = datatrain.loc[:,'label']\n",
    "Xtrain = datatrain.drop(['label'], axis=1)"
   ]
  },
  {
   "cell_type": "code",
   "execution_count": null,
   "id": "49de0c9c-f8e2-4e86-b69c-2c56bee81d30",
   "metadata": {},
   "outputs": [],
   "source": [
    "import xgboost as xgb\n",
    "from xgboost import XGBRegressor as XGBR\n",
    "from sklearn.ensemble import RandomForestRegressor as RFR\n",
    "from sklearn.linear_model import LinearRegression as LinearR\n",
    "from sklearn.datasets import load_boston\n",
    "from sklearn.model_selection import KFold, cross_val_score as CVS ,train_test_split as TTS\n",
    "from sklearn.metrics import mean_squared_error as MSE\n",
    "\n",
    "import pandas as pd\n",
    "import numpy as np\n",
    "import matplotlib.pyplot as  plt\n",
    "from time import time\n",
    "import datetime\n",
    "\n",
    "from collections import Counter\n",
    "\n",
    "import xgboost as xgb\n",
    "from time import time\n",
    "import datetime"
   ]
  },
  {
   "cell_type": "code",
   "execution_count": null,
   "id": "6f5a7602-2aa4-4fa4-97b5-89bf2d50422b",
   "metadata": {},
   "outputs": [],
   "source": [
    "for i in [0.01,0.05,0.1,0.15,0.3,0.6,0.8,1,3,6,8,10,15,20,25,30]:\n",
    "    clf8 = XGBC(n_estimators=8,scale_pos_weight=i).fit(Xtrain,ytrain)\n",
    "    ypred_ = clf8.predict(X_vali)\n",
    "    print(i)\n",
    "    print(\"\\tAccuracy:{}\".format(clf8.score(X_vali,y_vali)))\n",
    "    print(\"\\tRecall:{}\".format(recall(y_vali,ypred_)))\n",
    "    print(\"\\tAUC:{}\".format(auc(y_vali,clf8.predict_proba(X_vali)[:,1])))"
   ]
  },
  {
   "cell_type": "markdown",
   "id": "64172507-c609-4921-b0a4-6d872f2b89b3",
   "metadata": {},
   "source": [
    "scale_pos_weight=sum(negative instances)/sum(positive instances)"
   ]
  },
  {
   "cell_type": "code",
   "execution_count": null,
   "id": "e77ffa29-475a-4930-8ff7-e0d522571f39",
   "metadata": {},
   "outputs": [],
   "source": [
    "from sklearn.model_selection import KFold, cross_val_score as CVS ,train_test_split as TTS\n",
    "from sklearn.metrics import mean_squared_error as MSE\n",
    "# import sklearn\n",
    "# sorted(sklearn.metrics.SCORERS.keys())\n",
    "from sklearn import metrics\n",
    "import matplotlib.pyplot as plt"
   ]
  },
  {
   "cell_type": "code",
   "execution_count": null,
   "id": "82c14c7f-2017-4c21-8d38-f792febe8628",
   "metadata": {},
   "outputs": [],
   "source": [
    "clf = XGBC(n_estimators=10,\n",
    "               subsample=0.27,\n",
    "               learning_rate=0.4,\n",
    "               scale_pos_weight=0.17\n",
    "               ).fit(Xtrain,ytrain)\n",
    "print(auc(ytrain,clf.predict_proba(Xtrain)[:,1]))\n",
    "print(auc(y_vali,clf.predict_proba(X_vali)[:,1]))\n",
    "print(auc(y_vali2,clf.predict_proba(X_vali2)[:,1]))"
   ]
  },
  {
   "cell_type": "markdown",
   "id": "4af80ad4-ba4e-4e8b-b3f9-023abbb2f807",
   "metadata": {},
   "source": [
    "Save the model"
   ]
  },
  {
   "cell_type": "code",
   "execution_count": null,
   "id": "1377f155-a42b-4d17-9e95-7dc623cbd2b4",
   "metadata": {},
   "outputs": [],
   "source": [
    "import pickle"
   ]
  },
  {
   "cell_type": "code",
   "execution_count": null,
   "id": "b52983a7-daeb-46cd-9de7-6b8a5186d4a9",
   "metadata": {},
   "outputs": [],
   "source": [
    "pickle.dump(clf, open(\"xgboostforVETCMTM.dat\",\"wb\"))"
   ]
  },
  {
   "cell_type": "code",
   "execution_count": null,
   "id": "aca4f05f-16d6-4ca1-b704-7bf103a055c0",
   "metadata": {},
   "outputs": [],
   "source": [
    "clf = pickle.load(open(\"xgboostforVETC.dat\", \"rb\"))"
   ]
  },
  {
   "cell_type": "code",
   "execution_count": null,
   "id": "c0b99484-5c8c-4d32-93cc-a13729f79d91",
   "metadata": {},
   "outputs": [],
   "source": [
    "ypredt = loaded_model.predict_proba(Xtrain)[:,1]\n",
    "radscoretrain=pd.concat([datatrain,pd.DataFrame(ypredt)],axis=1)\n",
    "radscoretrain.to_csv('')"
   ]
  },
  {
   "cell_type": "code",
   "execution_count": null,
   "id": "19777191-7889-43d0-bed2-6f1d8a95be18",
   "metadata": {},
   "outputs": [],
   "source": [
    "ypredv = loaded_model.predict_proba(X_vali)[:,1]\n",
    "radscorevali=pd.concat([vali_data,pd.DataFrame(ypredv)],axis=1)\n",
    "radscorevali.to_csv(\"\")"
   ]
  },
  {
   "cell_type": "code",
   "execution_count": null,
   "id": "ce4c2bc7-007a-4475-b13c-5305e8e6f598",
   "metadata": {},
   "outputs": [],
   "source": [
    "ypredv2 = loaded_model.predict_proba(X_vali2)[:,1]\n",
    "radscorevali2=pd.concat([vali2_data,pd.DataFrame(ypredv2)],axis=1)\n",
    "radscorevali2.to_csv(\"\")"
   ]
  }
 ],
 "metadata": {
  "kernelspec": {
   "display_name": "Python 3 (ipykernel)",
   "language": "python",
   "name": "python3"
  },
  "language_info": {
   "codemirror_mode": {
    "name": "ipython",
    "version": 3
   },
   "file_extension": ".py",
   "mimetype": "text/x-python",
   "name": "python",
   "nbconvert_exporter": "python",
   "pygments_lexer": "ipython3",
   "version": "3.9.13"
  }
 },
 "nbformat": 4,
 "nbformat_minor": 5
}
